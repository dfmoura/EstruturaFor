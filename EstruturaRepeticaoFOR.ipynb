{
 "cells": [
  {
   "cell_type": "markdown",
   "id": "2704de99",
   "metadata": {},
   "source": [
    "# ### Todo for em python é um \"for each\"\n"
   ]
  },
  {
   "cell_type": "code",
   "execution_count": 4,
   "id": "0d4ee328",
   "metadata": {},
   "outputs": [
    {
     "name": "stdout",
     "output_type": "stream",
     "text": [
      "Faca\n",
      "Garfo\n",
      "Panela\n",
      "Frigideira\n",
      "Flavorstone\n"
     ]
    }
   ],
   "source": [
    "# a execução do FOR no python é a execução de um item para cada conjunto de itens (iterable).\n",
    "# percorrer uma lista\n",
    "lista_produtos = [\"faca\", \"garfo\",\"panela\", \"frigideira\", \"flavorstone\"]\n",
    "\n",
    "for produto in lista_produtos:\n",
    "    print(produto.capitalize())"
   ]
  },
  {
   "cell_type": "code",
   "execution_count": 6,
   "id": "7eb06322",
   "metadata": {},
   "outputs": [
    {
     "name": "stdout",
     "output_type": "stream",
     "text": [
      "1.0\n",
      "1.0\n",
      "20.0\n",
      "5.0\n",
      "30.0\n"
     ]
    }
   ],
   "source": [
    "# calcular o imposto sobre vários valores\n",
    "lista_precos = [10,10,200,50,300]\n",
    "for preco in lista_precos:\n",
    "    imposto = preco * 0.1\n",
    "    print(imposto)"
   ]
  },
  {
   "cell_type": "code",
   "execution_count": 7,
   "id": "2f34d3e7",
   "metadata": {},
   "outputs": [
    {
     "name": "stdout",
     "output_type": "stream",
     "text": [
      "10\n",
      "10\n",
      "200\n",
      "50\n",
      "300\n"
     ]
    }
   ],
   "source": [
    "# percorrendo um dicionário\n",
    "produtos = {\n",
    "    \"faca\": 10,\n",
    "    \"garfo\": 10,\n",
    "    \"panela\": 200,\n",
    "    \"frigideira\": 50,\n",
    "    \"flavorstone\": 300,\n",
    "}\n",
    "\n",
    "for produto in produtos:\n",
    "    print(produtos[produto])"
   ]
  },
  {
   "cell_type": "markdown",
   "id": "abcb5e5a",
   "metadata": {},
   "source": [
    "# ### Range\n"
   ]
  },
  {
   "cell_type": "code",
   "execution_count": 8,
   "id": "6369f6bc",
   "metadata": {},
   "outputs": [
    {
     "name": "stdout",
     "output_type": "stream",
     "text": [
      "lira@gmail.com\n",
      "lira@gmail.com\n",
      "lira@gmail.com\n",
      "lira@gmail.com\n",
      "lira@gmail.com\n"
     ]
    }
   ],
   "source": [
    "# _ o underlin significa uma variavel para nao usar para nada (convensão)\n",
    "\n",
    "for i in range(5):\n",
    "    print(\"lira@gmail.com\")"
   ]
  },
  {
   "cell_type": "markdown",
   "id": "f93d4824",
   "metadata": {},
   "source": [
    "# ### Exemplo aplicado - análise de vendas\n",
    "- Vendas no arquivo vendasloja.txt"
   ]
  },
  {
   "cell_type": "code",
   "execution_count": 11,
   "id": "dfe23f27",
   "metadata": {},
   "outputs": [
    {
     "name": "stdout",
     "output_type": "stream",
     "text": [
      "537984.0\n"
     ]
    }
   ],
   "source": [
    "# with é uma estrutura para abrir arquivos no python\n",
    "with open(\"vendasloja.txt\",\"r\") as arquivo: # read = r /// write = w\n",
    "    texto = arquivo.read()\n",
    "lista_texto = texto.split(\"\\n\")\n",
    "\n",
    "faturamento = 0\n",
    "# excluir a 1ª linha\n",
    "lista_texto = lista_texto[1:]\n",
    "# para cada linha do meu arquivo\n",
    "for linha in lista_texto:\n",
    "    posicao_pv = linha.find(\";\")\n",
    "    valor = float(linha[posicao_pv+1 :])\n",
    "    faturamento += valor\n",
    "print(faturamento)\n",
    "# eu quero somar o valor que vem depois do ;\n"
   ]
  },
  {
   "cell_type": "code",
   "execution_count": null,
   "id": "2b771e25",
   "metadata": {},
   "outputs": [],
   "source": []
  }
 ],
 "metadata": {
  "kernelspec": {
   "display_name": "Python 3 (ipykernel)",
   "language": "python",
   "name": "python3"
  },
  "language_info": {
   "codemirror_mode": {
    "name": "ipython",
    "version": 3
   },
   "file_extension": ".py",
   "mimetype": "text/x-python",
   "name": "python",
   "nbconvert_exporter": "python",
   "pygments_lexer": "ipython3",
   "version": "3.9.12"
  }
 },
 "nbformat": 4,
 "nbformat_minor": 5
}
